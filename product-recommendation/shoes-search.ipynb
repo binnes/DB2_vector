{
 "cells": [
  {
   "cell_type": "markdown",
   "metadata": {},
   "source": [
    "# Finding Similar Shoes Using Vector Search in Db2"
   ]
  },
  {
   "cell_type": "code",
   "execution_count": null,
   "metadata": {},
   "outputs": [
    {
     "name": "stdout",
     "output_type": "stream",
     "text": [
      "Db2 Extensions Loaded. Version: 2024-09-16\n"
     ]
    }
   ],
   "source": [
    "import pandas as pd\n",
    "import random\n",
    "from faker import Faker\n",
    "import os\n",
    "from dotenv import dotenv_values, load_dotenv\n",
    "from ibm_watsonx_ai import APIClient, Credentials\n",
    "from ibm_watsonx_ai.foundation_models import Embeddings\n",
    "import csv\n",
    "from IPython.display import Image, display\n",
    "import matplotlib.pyplot as plt\n",
    "from sklearn.manifold import TSNE\n",
    "import numpy as np\n",
    "import ast\n",
    "import matplotlib.image as mpimg\n",
    "from utils import *\n",
    "from typing import List, Tuple, Any\n",
    "import ibm_db\n",
    "import ibm_db_dbi as dbi\n",
    "\n",
    "pd.set_option('display.max_colwidth', None)  # Show full column content\n",
    "\n",
    "# Enable Db2 Magic Commands Extensions for Jupyter Notebook\n",
    "if not os.path.isfile('db2.ipynb'):\n",
    "    os.system('wget https://raw.githubusercontent.com/IBM/db2-jupyter/master/db2.ipynb')\n",
    "\n",
    "\n",
    "%run db2.ipynb"
   ]
  },
  {
   "cell_type": "markdown",
   "metadata": {},
   "source": [
    "## Setting up wx.ai API for embedding generation"
   ]
  },
  {
   "cell_type": "code",
   "execution_count": null,
   "metadata": {},
   "outputs": [],
   "source": [
    "load_dotenv(os.getcwd()+\"/.env\", override=True)\n",
    "\n",
    "#credentials = Credentials(\n",
    "#                url = \"https://us-south.ml.cloud.ibm.com\",\n",
    "#                api_key = os.getenv(\"WATSONX_APIKEY\", \"\")\n",
    "#                )\n",
    "#\n",
    "#client = APIClient(credentials)\n",
    "#\n",
    "#project_id = os.getenv(\"WATSONX_PROJECT\", \"\")\n",
    "#client.set.default_project(project_id)\n",
    "#\n",
    "#embeddings = Embeddings(\n",
    "#    model_id=client.foundation_models.EmbeddingModels.MULTILINGUAL_E5_LARGE,\n",
    "#    credentials=credentials,\n",
    "#    project_id=project_id,\n",
    "#)"
   ]
  },
  {
   "cell_type": "markdown",
   "metadata": {},
   "source": [
    "## Setting up Db2 Connection"
   ]
  },
  {
   "cell_type": "code",
   "execution_count": null,
   "metadata": {},
   "outputs": [],
   "source": [
    "db2creds = dotenv_values('.env')\n",
    "db2creds\n"
   ]
  },
  {
   "cell_type": "code",
   "execution_count": null,
   "metadata": {},
   "outputs": [],
   "source": [
    "%sql CONNECT CREDENTIALS db2creds"
   ]
  },
  {
   "cell_type": "markdown",
   "metadata": {},
   "source": [
    "# Setting up a Shoes Table at Db2"
   ]
  },
  {
   "cell_type": "code",
   "execution_count": null,
   "metadata": {},
   "outputs": [],
   "source": [
    "%sql DROP TABLE SQ_SHOES\n",
    "\n",
    "# Create the table\n",
    "sql = get_create_sq_shoes_table_sql()\n",
    "%sql {sql}"
   ]
  },
  {
   "cell_type": "code",
   "execution_count": null,
   "metadata": {},
   "outputs": [],
   "source": [
    "#%%capture output\n",
    "#sql = f'''\"IMPORT FROM 'shoes-vectors.csv' OF DEL skipcount 1 INSERT INTO SQ_SHOES\"'''\n",
    "_ = ! db2 \"connect to testdb\"\n",
    "\n",
    "#output = %system db2 {sql}\n",
    "#print(output)"
   ]
  },
  {
   "cell_type": "code",
   "execution_count": 38,
   "metadata": {},
   "outputs": [
    {
     "name": "stdout",
     "output_type": "stream",
     "text": [
      "          SKU            PRODUCT_NAME      BRAND  CLASS     TYPE   MATERIAL  \\\n",
      "0    ZEN-5999       Zentrax X Walking    Zentrax  Women  Walking  Synthetic   \n",
      "1    RUN-4723   RunXpress Max Walking  RunXpress  Women  Walking  Synthetic   \n",
      "2    ZEN-8968     Zentrax Pro Running    Zentrax    Men  Running  Synthetic   \n",
      "3    RUN-7569     RunXpress X Walking  RunXpress    Men  Walking  Synthetic   \n",
      "4    RUN-1083     RunXpress X Walking  RunXpress  Women  Walking  Synthetic   \n",
      "..        ...                     ...        ...    ...      ...        ...   \n",
      "495  ZEN-7398       Zentrax X Walking    Zentrax    Men  Walking       Knit   \n",
      "496  ZEN-4049    Zentrax Flex Running    Zentrax    Men  Running  Synthetic   \n",
      "497  RUN-6703  RunXpress Flex Running  RunXpress  Women  Running  Synthetic   \n",
      "498  ZEN-2650     Zentrax Max Running    Zentrax  Women  Running  Synthetic   \n",
      "499  RUN-3313     RunXpress X Walking  RunXpress  Women  Walking  Synthetic   \n",
      "\n",
      "     COLOR WEATHER_RESISTANCE ARCH_SUPPORT  SIZE   PRICE  RATING  STORE_ID  \\\n",
      "0    White          Resistant         High   8.0  108.65     4.3       1.0   \n",
      "1    White         Waterproof         High   8.5  103.22     3.0      20.0   \n",
      "2    Black         Waterproof         High   7.5  100.25     3.7      13.0   \n",
      "3    Black         Waterproof         Flat   7.5   83.84     3.2       4.0   \n",
      "4    Black          Resistant         Flat  12.5  139.70     3.8       2.0   \n",
      "..     ...                ...          ...   ...     ...     ...       ...   \n",
      "495  Black          Resistant         High  12.5  105.09     4.5      10.0   \n",
      "496  White         Waterproof         Flat   9.0  121.18     4.3      13.0   \n",
      "497  White         Waterproof         High  12.5  119.06     5.0      13.0   \n",
      "498  White         Waterproof         Flat   6.5  111.77     4.0      19.0   \n",
      "499  Black         Waterproof         Flat   8.5   65.71     4.9       3.0   \n",
      "\n",
      "        CITY  \n",
      "0     Ottawa  \n",
      "1     Ottawa  \n",
      "2    Toronto  \n",
      "3     Ottawa  \n",
      "4    Toronto  \n",
      "..       ...  \n",
      "495  Toronto  \n",
      "496  Toronto  \n",
      "497   Ottawa  \n",
      "498   Ottawa  \n",
      "499  Toronto  \n",
      "\n",
      "[500 rows x 14 columns]\n"
     ]
    }
   ],
   "source": [
    "shoes = pd.read_csv('shoes.csv')\n",
    "#shoes['EMBEDDING'] = shoes['EMBEDDING'].apply(json.loads)\n",
    "print(shoes)"
   ]
  },
  {
   "cell_type": "code",
   "execution_count": null,
   "metadata": {},
   "outputs": [
    {
     "ename": "AttributeError",
     "evalue": "type object 'Exception' has no attribute 'tostring'",
     "output_type": "error",
     "traceback": [
      "\u001b[31m---------------------------------------------------------------------------\u001b[39m",
      "\u001b[31mAttributeError\u001b[39m                            Traceback (most recent call last)",
      "\u001b[36mCell\u001b[39m\u001b[36m \u001b[39m\u001b[32mIn[70]\u001b[39m\u001b[32m, line 8\u001b[39m\n\u001b[32m      7\u001b[39m \u001b[38;5;28;01mtry\u001b[39;00m:\n\u001b[32m----> \u001b[39m\u001b[32m8\u001b[39m     preparedStmt = \u001b[43mdbi\u001b[49m\u001b[43m.\u001b[49m\u001b[43mprepare\u001b[49m(dbConnection, sql_insert)\n\u001b[32m      9\u001b[39m \u001b[38;5;28;01mexcept\u001b[39;00m \u001b[38;5;167;01mException\u001b[39;00m:\n",
      "\u001b[31mAttributeError\u001b[39m: module 'ibm_db_dbi' has no attribute 'prepare'",
      "\nDuring handling of the above exception, another exception occurred:\n",
      "\u001b[31mAttributeError\u001b[39m                            Traceback (most recent call last)",
      "\u001b[36mCell\u001b[39m\u001b[36m \u001b[39m\u001b[32mIn[70]\u001b[39m\u001b[32m, line 10\u001b[39m\n\u001b[32m      8\u001b[39m     preparedStmt = dbi.prepare(dbConnection, sql_insert)\n\u001b[32m      9\u001b[39m \u001b[38;5;28;01mexcept\u001b[39;00m \u001b[38;5;167;01mException\u001b[39;00m:\n\u001b[32m---> \u001b[39m\u001b[32m10\u001b[39m     \u001b[38;5;28mprint\u001b[39m(\u001b[38;5;167;43;01mException\u001b[39;49;00m\u001b[43m.\u001b[49m\u001b[43mtostring\u001b[49m())\n\u001b[32m     12\u001b[39m \u001b[38;5;28;01mif\u001b[39;00m preparedStmt \u001b[38;5;129;01mis\u001b[39;00m \u001b[38;5;28;01mFalse\u001b[39;00m:\n\u001b[32m     13\u001b[39m     \u001b[38;5;28mprint\u001b[39m(\u001b[33m\"\u001b[39m\u001b[38;5;130;01m\\n\u001b[39;00m\u001b[33mERROR: Unable to prepare the SQL statement specified.\u001b[39m\u001b[38;5;130;01m\\n\u001b[39;00m\u001b[33m\"\u001b[39m)\n",
      "\u001b[31mAttributeError\u001b[39m: type object 'Exception' has no attribute 'tostring'"
     ]
    }
   ],
   "source": [
    "connection = f\"DATABASE={os.getenv('database')};HOSTNAME={os.getenv('hostname')};PORT={os.getenv('port')};PROTOCOL=TCPIP;UID={os.getenv('uid')};PWD={os.getenv('pwd')};\"\n",
    "conn = ibm_db.connect(connection, \"\", \"\")\n",
    "\n",
    "sql_insert = \"INSERT INTO SQ_SHOES(SKU,PRODUCT_NAME,BRAND,CLASS,TYPE,MATERIAL,COLOR,WEATHER_RESISTANCE,ARCH_SUPPORT,SIZE,PRICE,RATING,STORE_ID,CITY) VALUES (?,?,?,?,?,?,?,?,?,?,?,?,?,?)\"\n",
    "\n",
    "preparedStmt = None\n",
    "try:\n",
    "    preparedStmt = ibm_db.prepare(dbConnection, sql_insert)\n",
    "except Exception:\n",
    "    print(Exception.tostring())\n",
    "  \n",
    "if preparedStmt is False:\n",
    "    print(\"\\nERROR: Unable to prepare the SQL statement specified.\\n\")\n",
    "    ibm_db.close(conn)\n",
    "else:\n",
    "      \n",
    "  #pmValues: List[Tuple[Any, Any, Any, Any, Any, Any, Any, Any, Any, Any, Any, Any, Any, Any]]\n",
    "  #pmValues = []\n",
    "  #for row in shoes.itertuples():\n",
    "  #    pmValues.insert(len(pmValues), (row.SKU, row.PRODUCT_NAME, row.BRAND, row.CLASS, row.TYPE, row.MATERIAL,\n",
    "  #                  row.COLOR, row.WEATHER_RESISTANCE, row.ARCH_SUPPORT, row.SIZE, row.PRICE,\n",
    "  #                  row.RATING, int(row.STORE_ID), row.CITY))\n",
    "  tuple_of_tuples = tuple([tuple(x) for x in shoes.values])\n",
    "  print(tuple_of_tuples)\n",
    "\n",
    "try:\n",
    "  ibm_db.execute_many(preparedStmt, tuple(tuple_of_tuples))\n",
    "  print(returnCode)\n",
    "except Exception:\n",
    "  print(Exception)\n",
    "  \n",
    "ibm_db.close(conn)\n",
    "\n",
    "  \n"
   ]
  },
  {
   "cell_type": "code",
   "execution_count": null,
   "metadata": {},
   "outputs": [],
   "source": [
    "%sql USING shoes APPEND TABLE SQ_SHOES"
   ]
  },
  {
   "cell_type": "markdown",
   "metadata": {},
   "source": [
    "## Searching for a Running Shoe of Size `12`, for `Men`"
   ]
  },
  {
   "cell_type": "code",
   "execution_count": null,
   "metadata": {},
   "outputs": [],
   "source": [
    "%sql SELECT count(*) FROM SQ_SHOES"
   ]
  },
  {
   "cell_type": "code",
   "execution_count": null,
   "metadata": {},
   "outputs": [],
   "source": [
    "sql = get_men_shoes_sql()\n",
    "df_shoe_search = %sql {sql}\n",
    "\n",
    "sku_list = df_shoe_search['SKU'].tolist()\n",
    "display_sku_images(sku_list)\n",
    "\n",
    "df_shoe_search.head(6)"
   ]
  },
  {
   "cell_type": "markdown",
   "metadata": {},
   "source": [
    "### My chosen shoe is available at the Ottawa location"
   ]
  },
  {
   "cell_type": "code",
   "execution_count": null,
   "metadata": {},
   "outputs": [],
   "source": [
    "my_choice_sku = 'ZEN-2061'"
   ]
  },
  {
   "cell_type": "markdown",
   "metadata": {},
   "source": [
    "## Searching for a similar shoes at the Toronto Location"
   ]
  },
  {
   "cell_type": "code",
   "execution_count": null,
   "metadata": {},
   "outputs": [],
   "source": [
    "sql = get_similar_shoes_sql()\n",
    "df_shoes_results = %sql {sql}\n",
    "sku_list = df_shoes_results['SKU'].tolist()\n",
    "\n",
    "display_sku_images(sku_list)\n",
    "df_shoes_results.head(3)"
   ]
  },
  {
   "cell_type": "markdown",
   "metadata": {},
   "source": [
    "## Comparing the Search Results with my Preferred Shoe"
   ]
  },
  {
   "cell_type": "code",
   "execution_count": null,
   "metadata": {},
   "outputs": [],
   "source": [
    "sku_list = df_shoes_results.iloc[[0, 2]]['SKU'].tolist()\n",
    "sku_list.append(my_choice_sku)\n",
    "\n",
    "sku_sql_in = ', '.join(f\"'{sku}'\" for sku in sku_list)\n",
    "\n",
    "sql = get_distance_for_sku_list_sql(sku_sql_in)\n",
    "\n",
    "df_result = %sql {sql}\n",
    "\n",
    "cols_show = ['SKU', 'TYPE', 'MATERIAL', 'COLOR', 'WEATHER_RESISTANCE', 'ARCH_SUPPORT']\n",
    "df_result[cols_show].transpose()"
   ]
  },
  {
   "cell_type": "markdown",
   "metadata": {},
   "source": [
    "## Looking under the hood"
   ]
  },
  {
   "cell_type": "markdown",
   "metadata": {},
   "source": [
    "### 1. original table without a `VECTOR` column"
   ]
  },
  {
   "cell_type": "code",
   "execution_count": null,
   "metadata": {},
   "outputs": [],
   "source": [
    "%sql DROP TABLE SQ_SHOES\n",
    "\n",
    "# Create the table\n",
    "sql = get_create_sq_shoes_table_data_only()\n",
    "%sql {sql}\n",
    "\n",
    "sql = f'''\"IMPORT FROM 'shoes.csv' OF DEL skipcount 1 INSERT INTO SQ_SHOES\"'''\n",
    "_ = ! db2 \"connect to TPCDS\"\n",
    "\n",
    "output = %system db2 {sql}\n",
    "\n",
    "%sql SELECT * FROM SQ_SHOES FETCH FIRST 3 ROWS ONLY"
   ]
  },
  {
   "cell_type": "markdown",
   "metadata": {},
   "source": [
    "### 2. Adding a `VECTOR` column"
   ]
  },
  {
   "cell_type": "code",
   "execution_count": null,
   "metadata": {},
   "outputs": [],
   "source": [
    "%%sql\n",
    "ALTER TABLE SQ_SHOES\n",
    "ADD COLUMN EMBEDDING VECTOR(1024, FLOAT32);"
   ]
  },
  {
   "cell_type": "code",
   "execution_count": null,
   "metadata": {},
   "outputs": [],
   "source": [
    "sql = f'''\"DESCRIBE TABLE SQ_SHOES\"'''\n",
    "_ = ! db2 \"connect to TPCDS\"\n",
    "\n",
    "%system db2 {sql}"
   ]
  },
  {
   "cell_type": "code",
   "execution_count": null,
   "metadata": {},
   "outputs": [],
   "source": [
    "%sql SELECT * FROM SQ_SHOES FETCH FIRST 3 ROWS ONLY"
   ]
  },
  {
   "cell_type": "markdown",
   "metadata": {},
   "source": [
    "### 1. selected shoe features for generating shoe vectors"
   ]
  },
  {
   "cell_type": "code",
   "execution_count": null,
   "metadata": {},
   "outputs": [],
   "source": [
    "embedding_cols = ['TYPE', 'MATERIAL', 'COLOR', 'WEATHER_RESISTANCE', 'ARCH_SUPPORT']\n",
    "shoe_sample = %sql SELECT * FROM SQ_SHOES WHERE SKU = :my_choice_sku\n",
    "shoe_sample[embedding_cols]"
   ]
  },
  {
   "cell_type": "markdown",
   "metadata": {},
   "source": [
    "### 2. combined the text features of each shoe as follows"
   ]
  },
  {
   "cell_type": "code",
   "execution_count": null,
   "metadata": {},
   "outputs": [],
   "source": [
    "# Combine all columns into a single string for each row, including column names\n",
    "shoe_sample['combined'] = shoe_sample.apply(\n",
    "    lambda row: ' [SEP] '.join([f\"{col_name}: {row[col_name]}\" for col_name in embedding_cols]), \n",
    "    axis=1\n",
    ")\n",
    "\n",
    "shoe_sample.iloc[0]['combined']"
   ]
  },
  {
   "cell_type": "markdown",
   "metadata": {},
   "source": [
    "### 3. generated embedding vectors for the shoe text obtained in the previous step. For generating embedding vectors, used `watsonx.ai`"
   ]
  },
  {
   "cell_type": "code",
   "execution_count": null,
   "metadata": {},
   "outputs": [],
   "source": [
    "\n",
    "row_combined = shoe_sample['combined'].tolist()\n",
    "print('input text: ', row_combined[0])\n",
    "\n",
    "shoe_vectors = embeddings.embed_documents(texts=row_combined)\n",
    "print('generated embedding vector: ', shoe_vectors[0])\n",
    "\n",
    "shoe_sample['embedding'] = shoe_vectors\n",
    "shoe_sample['embedding'] = shoe_sample['embedding'].apply(lambda x: '[' + ', '.join(map(str, x)) + ']')"
   ]
  },
  {
   "cell_type": "markdown",
   "metadata": {},
   "source": [
    "### 4. stored vectors in Db2 in a Vector column"
   ]
  },
  {
   "cell_type": "code",
   "execution_count": null,
   "metadata": {},
   "outputs": [],
   "source": [
    "%sql SELECT EMBEDDING FROM SQ_SHOES WHERE SKU = :my_choice_sku"
   ]
  },
  {
   "cell_type": "code",
   "execution_count": null,
   "metadata": {},
   "outputs": [],
   "source": [
    "update_sql = f\"\"\" \n",
    "UPDATE SQ_SHOES SET EMBEDDING = VECTOR('{shoe_vectors[0]}', 1024, FLOAT32) WHERE SKU = :my_choice_sku\n",
    "\"\"\"\n",
    "\n",
    "%sql {update_sql}"
   ]
  },
  {
   "cell_type": "code",
   "execution_count": null,
   "metadata": {},
   "outputs": [],
   "source": [
    "%sql SELECT EMBEDDING FROM SQ_SHOES WHERE SKU = :my_choice_sku"
   ]
  },
  {
   "cell_type": "markdown",
   "metadata": {},
   "source": [
    "### 5. Loading the vectors of all the shoes - to save demo time"
   ]
  },
  {
   "cell_type": "code",
   "execution_count": null,
   "metadata": {},
   "outputs": [],
   "source": [
    "%sql DROP TABLE SQ_SHOES\n",
    "\n",
    "# Create the table\n",
    "sql = get_create_sq_shoes_table_sql()\n",
    "%sql {sql}\n",
    "\n",
    "sql = f'''\"IMPORT FROM 'shoes-vectors.csv' OF DEL skipcount 1 INSERT INTO SQ_SHOES\"'''\n",
    "_ = ! db2 \"connect to TPCDS\"\n",
    "\n",
    "output = %system db2 {sql}"
   ]
  },
  {
   "cell_type": "markdown",
   "metadata": {},
   "source": [
    "### 6. Finding matching shoes using the `VECTOR_DISTANCE` function"
   ]
  },
  {
   "cell_type": "code",
   "execution_count": null,
   "metadata": {},
   "outputs": [],
   "source": [
    "sql = f\"\"\"\n",
    "SELECT \n",
    "    SKU, \n",
    "    PRODUCT_NAME, \n",
    "    BRAND, \n",
    "    TYPE, \n",
    "    MATERIAL, \n",
    "    COLOR, \n",
    "    WEATHER_RESISTANCE, \n",
    "    ARCH_SUPPORT, \n",
    "    PRICE, \n",
    "    RATING,\n",
    "    VECTOR_DISTANCE(\n",
    "        (SELECT EMBEDDING FROM SQ_SHOES WHERE SKU = :my_choice_sku), \n",
    "        EMBEDDING, \n",
    "        EUCLIDEAN\n",
    "    ) AS DISTANCE\n",
    "FROM \n",
    "    SQ_SHOES\n",
    "WHERE \n",
    "    SKU <> :my_choice_sku\n",
    "    AND CITY = 'Toronto'\n",
    "    AND SIZE = 12\n",
    "    AND CLASS = 'Men'\n",
    "ORDER BY \n",
    "    DISTANCE ASC\n",
    "FETCH FIRST 5 ROWS ONLY\n",
    "\"\"\"\n",
    "\n",
    "top_shoes = %sql {sql}\n",
    "top_shoes.head()"
   ]
  },
  {
   "cell_type": "markdown",
   "metadata": {},
   "source": [
    "### 7. Visualizing vector search"
   ]
  },
  {
   "cell_type": "code",
   "execution_count": null,
   "metadata": {},
   "outputs": [],
   "source": [
    "\n",
    "sku_list = top_shoes['SKU'].tolist()\n",
    "sku_list.append(my_choice_sku)\n",
    "sku_sql_in = ', '.join(f\"'{sku}'\" for sku in sku_list)\n",
    "sql = get_similarity_query(sku_sql_in)\n",
    "\n",
    "top_matching_vectors = %sql {sql}\n",
    "\n",
    "plot_similarity_tsne(top_matching_vectors, my_choice_sku)"
   ]
  },
  {
   "cell_type": "code",
   "execution_count": null,
   "metadata": {},
   "outputs": [],
   "source": [
    "%sql DROP TABLE SQ_SHOES"
   ]
  },
  {
   "cell_type": "code",
   "execution_count": null,
   "metadata": {},
   "outputs": [],
   "source": [
    "%sql CONNECT RESET"
   ]
  }
 ],
 "metadata": {
  "kernelspec": {
   "display_name": "Python 3",
   "language": "python",
   "name": "python3"
  },
  "language_info": {
   "codemirror_mode": {
    "name": "ipython",
    "version": 3
   },
   "file_extension": ".py",
   "mimetype": "text/x-python",
   "name": "python",
   "nbconvert_exporter": "python",
   "pygments_lexer": "ipython3",
   "version": "3.12.11"
  }
 },
 "nbformat": 4,
 "nbformat_minor": 2
}
