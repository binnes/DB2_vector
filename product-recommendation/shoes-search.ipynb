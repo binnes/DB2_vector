{
 "cells": [
  {
   "cell_type": "markdown",
   "metadata": {},
   "source": [
    "# Finding Similar Shoes Using Vector Search in Db2"
   ]
  },
  {
   "cell_type": "markdown",
   "metadata": {},
   "source": [
    "## Prepare DB2\n",
    "\n",
    "Ensure DB2 is up and running.  The following commands in the DB2 container should help:\n",
    "\n",
    "```bash\n",
    "su - db2inst1\n",
    "export PATH=/opt/ibm/db2/V12.1/bin:$PATH\n",
    "db2start\n",
    "db2 create database testdb\n",
    "db2 list database directory\n",
    "```"
   ]
  },
  {
   "cell_type": "code",
   "execution_count": null,
   "metadata": {},
   "outputs": [],
   "source": [
    "import pandas as pd\n",
    "import os\n",
    "from dotenv import dotenv_values, load_dotenv\n",
    "from ibm_watsonx_ai import APIClient, Credentials\n",
    "from ibm_watsonx_ai.foundation_models import Embeddings\n",
    "from utils import *\n",
    "import ibm_db\n",
    "\n",
    "pd.set_option('display.max_colwidth', None)  # Show full column content"
   ]
  },
  {
   "cell_type": "markdown",
   "metadata": {},
   "source": [
    "## Setting up wx.ai API for embedding generation"
   ]
  },
  {
   "cell_type": "code",
   "execution_count": null,
   "metadata": {},
   "outputs": [],
   "source": [
    "load_dotenv(os.getcwd()+\"/.env\", override=True)\n",
    "\n",
    "credentials = Credentials(\n",
    "               url = os.getenv(\"WATSONX_URL\", \"https://us-south.ml.cloud.ibm.com\"),\n",
    "               api_key = os.getenv(\"WATSONX_APIKEY\", \"\")\n",
    "               )\n",
    "\n",
    "client = APIClient(credentials)\n",
    "\n",
    "project_id = os.getenv(\"WATSONX_PROJECT\", \"\")\n",
    "client.set.default_project(project_id)\n",
    "\n",
    "embeddings = Embeddings(\n",
    "   model_id=client.foundation_models.EmbeddingModels.MULTILINGUAL_E5_LARGE,\n",
    "   credentials=credentials,\n",
    "   project_id=project_id,\n",
    ")"
   ]
  },
  {
   "cell_type": "markdown",
   "metadata": {},
   "source": [
    "## Setting up Db2 Connection"
   ]
  },
  {
   "cell_type": "code",
   "execution_count": null,
   "metadata": {},
   "outputs": [],
   "source": [
    "dbName = os.getenv('database')\n",
    "dbHost = os.getenv('hostname')\n",
    "dbPort = os.getenv('port')\n",
    "dbUser = os.getenv('uid')\n",
    "dbPassword = os.getenv('pwd')\n",
    "\n",
    "connection = f\"DATABASE={dbName};HOSTNAME={dbHost};PORT={dbPort};PROTOCOL=TCPIP;UID={dbUser};PWD={dbPassword};\"\n",
    "connOption = {ibm_db.SQL_ATTR_AUTOCOMMIT : ibm_db.SQL_AUTOCOMMIT_ON}\n",
    "conn = ibm_db.connect(connection, \"\", \"\", connOption)\n",
    "\n",
    "if conn is None:\n",
    "    print(\"\\nERROR: Unable to connect to the \\'\" + dbName + \"\\' database.\")\n",
    "    ibm_db.close(conn)\n",
    "    jupyter.notebook.stop('shoes-search.ipynb')\n",
    "else:\n",
    "    print(\"\\nSUCCESS: Connected to the \\'\" + dbName + \"\\' database\")"
   ]
  },
  {
   "cell_type": "markdown",
   "metadata": {},
   "source": [
    "# Setting up a Shoes Table at Db2"
   ]
  },
  {
   "cell_type": "code",
   "execution_count": null,
   "metadata": {},
   "outputs": [],
   "source": [
    "# Drop the DB table SQ_SHOES if it exists\n",
    "\n",
    "sqlStatement1 = \"DROP TABLE SQ_SHOES\"\n",
    "try:\n",
    "    resultSet1 = ibm_db.exec_immediate(conn, sqlStatement1)\n",
    "except Exception:\n",
    "    pass"
   ]
  },
  {
   "cell_type": "code",
   "execution_count": null,
   "metadata": {},
   "outputs": [],
   "source": [
    "# Create the table\n",
    "sqlStatement2 = \"\"\"\n",
    "    CREATE TABLE SQ_SHOES (\n",
    "    SKU VARCHAR(8),\n",
    "    PRODUCT_NAME VARCHAR(23),\n",
    "    BRAND VARCHAR(9),\n",
    "    CLASS VARCHAR(5),\n",
    "    TYPE VARCHAR(7),\n",
    "    MATERIAL VARCHAR(9),\n",
    "    COLOR VARCHAR(5),\n",
    "    WEATHER_RESISTANCE VARCHAR(10),\n",
    "    ARCH_SUPPORT VARCHAR(4),\n",
    "    SIZE FLOAT,\n",
    "    PRICE FLOAT,\n",
    "    RATING FLOAT,\n",
    "    STORE_ID BIGINT,\n",
    "    CITY VARCHAR(7),\n",
    "    EMBEDDING VECTOR(1024,FLOAT32)\n",
    "    );\n",
    "    \"\"\"\n",
    "try:\n",
    "    resultSet2 = ibm_db.exec_immediate(conn, sqlStatement2)\n",
    "except Exception:\n",
    "    pass\n",
    "\n",
    "if resultSet2 is False:\n",
    "    print(\"\\nERROR: Unable to create table SQ_SHOES\\n\")\n",
    "    ibm_db.close(conn)\n",
    "    jupyter.notebook.stop('shoes-search.ipynb')\n",
    "else:\n",
    "    print(\"\\nSUCESSSL Created table SQ_SHOES\\n\")"
   ]
  },
  {
   "cell_type": "code",
   "execution_count": null,
   "metadata": {},
   "outputs": [],
   "source": [
    "# Load shoes-vectors spreadsheet into the database\n",
    "\n",
    "shoes = pd.read_csv('shoes-vectors.csv')\n",
    "\n",
    "sql_insert = \"INSERT INTO SQ_SHOES(SKU,PRODUCT_NAME,BRAND,CLASS,TYPE,MATERIAL,COLOR,WEATHER_RESISTANCE,ARCH_SUPPORT,SIZE,PRICE,RATING,STORE_ID,CITY,EMBEDDING) VALUES (?,?,?,?,?,?,?,?,?,?,?,?,?,?,VECTOR(?, 1024, FLOAT32))\"\n",
    "\n",
    "preparedStmt = None\n",
    "try:\n",
    "    preparedStmt = ibm_db.prepare(conn, sql_insert)\n",
    "except Exception:\n",
    "    print(Exception)\n",
    "  \n",
    "if preparedStmt is False:\n",
    "    print(\"\\nERROR: Unable to prepare the SQL statement specified.\\n\")\n",
    "    ibm_db.close(conn)\n",
    "else:\n",
    "  tuple_of_tuples = tuple([tuple(x) for x in shoes.values])\n",
    "  print(tuple_of_tuples)\n",
    "\n",
    "try:\n",
    "  ibm_db.execute_many(preparedStmt, tuple(tuple_of_tuples))\n",
    "except Exception:\n",
    "  print(Exception)\n",
    "  "
   ]
  },
  {
   "cell_type": "markdown",
   "metadata": {},
   "source": [
    "## Searching for a Running Shoe of Size `12`, for `Men`"
   ]
  },
  {
   "cell_type": "code",
   "execution_count": null,
   "metadata": {},
   "outputs": [],
   "source": [
    "sqlStatement3 = \"SELECT count(*) FROM SQ_SHOES\"\n",
    "try:\n",
    "    resultSet3 = ibm_db.exec_immediate(conn, sqlStatement3)\n",
    "except Exception:\n",
    "    pass\n",
    "\n",
    "if resultSet3 is False:\n",
    "    print(\"\\nERROR: Unable to create table SQ_SHOES\\n\")\n",
    "    ibm_db.close(conn)\n",
    "    jupyter.notebook.stop('shoes-search.ipynb')\n",
    "else:\n",
    "    while (ibm_db.fetch_row(resultSet3) is True):\n",
    "      print(ibm_db.result(resultSet3, 0))\n",
    "    print()"
   ]
  },
  {
   "cell_type": "code",
   "execution_count": null,
   "metadata": {},
   "outputs": [],
   "source": [
    "def db2_resultSet_to_dataFrame(resultSet) -> pd.DataFrame:\n",
    "  ret = None\n",
    "  data = []\n",
    "  if resultSet is False:\n",
    "      print(\"\\nERROR: Unable to fetch mens shoes\\n\")\n",
    "      ibm_db.close(conn)\n",
    "  else:\n",
    "      # Fetch column names from result\n",
    "      colNames=[]\n",
    "      numColumns = ibm_db.num_fields(resultSet)\n",
    "      for counter in range(0, numColumns):\n",
    "        colNames.append(ibm_db.field_name(resultSet, counter))\n",
    "      # Fetch rows as tuples and apend to array\n",
    "      noData = False\n",
    "      while noData is False:\n",
    "        dataRow = ibm_db.fetch_tuple(resultSet)\n",
    "        if dataRow is False:\n",
    "          noData = True\n",
    "        else:\n",
    "          data.append(dataRow)\n",
    "          \n",
    "      # convert to pandas dataframe\n",
    "      ret = pd.DataFrame(data, columns=colNames)\n",
    "  return ret"
   ]
  },
  {
   "cell_type": "code",
   "execution_count": null,
   "metadata": {},
   "outputs": [],
   "source": [
    "sqlStatement4 = \"\"\" \n",
    "    SELECT SKU, PRODUCT_NAME, BRAND, TYPE, MATERIAL, COLOR, WEATHER_RESISTANCE, ARCH_SUPPORT, PRICE, RATING, CITY\n",
    "    FROM SQ_SHOES \n",
    "    WHERE CLASS = 'Men' AND Size = 12 \n",
    "    FETCH FIRST 6 ROWS ONLY\n",
    "    \"\"\"\n",
    "\n",
    "try:\n",
    "    resultSet4 = ibm_db.exec_immediate(conn, sqlStatement4)\n",
    "except Exception:\n",
    "    pass\n",
    "\n",
    "if resultSet4:        \n",
    "    df_shoe_search = db2_resultSet_to_dataFrame(resultSet4)\n",
    "\n",
    "    # display selected shoes\n",
    "    sku_list = df_shoe_search['SKU'].tolist()\n",
    "    display_sku_images(sku_list)\n",
    "\n",
    "    print(df_shoe_search.head(6))"
   ]
  },
  {
   "cell_type": "markdown",
   "metadata": {},
   "source": [
    "### My chosen shoe is available at the Ottawa location"
   ]
  },
  {
   "cell_type": "code",
   "execution_count": null,
   "metadata": {},
   "outputs": [],
   "source": [
    "my_choice_sku = 'ZEN-2061'"
   ]
  },
  {
   "cell_type": "markdown",
   "metadata": {},
   "source": [
    "## Searching for a similar shoes at the Toronto Location"
   ]
  },
  {
   "cell_type": "code",
   "execution_count": null,
   "metadata": {},
   "outputs": [],
   "source": [
    "sqlStatement5 = f\"\"\"\n",
    "    SELECT SKU, PRODUCT_NAME, BRAND, TYPE, MATERIAL, COLOR, WEATHER_RESISTANCE, ARCH_SUPPORT, PRICE, RATING,\n",
    "        VECTOR_DISTANCE((SELECT EMBEDDING FROM SQ_SHOES WHERE SKU = '{my_choice_sku}'), EMBEDDING, EUCLIDEAN) AS DISTANCE\n",
    "    FROM SQ_SHOES\n",
    "    WHERE SKU <> '{my_choice_sku}' AND CITY = 'Toronto' AND SIZE = 12 AND CLASS = 'Men'\n",
    "    ORDER BY DISTANCE ASC\n",
    "    FETCH FIRST 3 ROWS ONLY\n",
    "    \"\"\"\n",
    "\n",
    "try:\n",
    "    resultSet5 = ibm_db.exec_immediate(conn, sqlStatement5)\n",
    "except Exception:\n",
    "    pass\n",
    "\n",
    "if resultSet5:        \n",
    "    df_shoes_results = db2_resultSet_to_dataFrame(resultSet5)\n",
    "    sku_list = df_shoes_results['SKU'].tolist()\n",
    "\n",
    "    display_sku_images(sku_list)\n",
    "    df_shoes_results.head(3)"
   ]
  },
  {
   "cell_type": "markdown",
   "metadata": {},
   "source": [
    "## Comparing the Search Results with my Preferred Shoe"
   ]
  },
  {
   "cell_type": "code",
   "execution_count": null,
   "metadata": {},
   "outputs": [],
   "source": [
    "sku_list = df_shoes_results['SKU'].tolist()\n",
    "sku_list.append(my_choice_sku)\n",
    "\n",
    "sku_sql_in = ', '.join(f\"'{sku}'\" for sku in sku_list)\n",
    "\n",
    "sqlStatement6 = f\"\"\"\n",
    "    SELECT SKU, PRODUCT_NAME, BRAND, TYPE, MATERIAL, COLOR, WEATHER_RESISTANCE, ARCH_SUPPORT, PRICE, RATING,\n",
    "        VECTOR_DISTANCE((SELECT EMBEDDING FROM SQ_SHOES WHERE SKU = '{my_choice_sku}'), EMBEDDING, EUCLIDEAN) AS DISTANCE\n",
    "    FROM SQ_SHOES\n",
    "    WHERE SKU IN ({sku_sql_in})\n",
    "    ORDER BY DISTANCE ASC\n",
    "    \"\"\"\n",
    "try:\n",
    "    resultSet6 = ibm_db.exec_immediate(conn, sqlStatement6)\n",
    "except Exception:\n",
    "    pass\n",
    "\n",
    "if resultSet6:        \n",
    "    df_result = db2_resultSet_to_dataFrame(resultSet6)\n",
    "\n",
    "cols_show = ['SKU', 'TYPE', 'MATERIAL', 'COLOR', 'WEATHER_RESISTANCE', 'ARCH_SUPPORT']\n",
    "df_result[cols_show].transpose()"
   ]
  },
  {
   "cell_type": "markdown",
   "metadata": {},
   "source": [
    "## Looking under the hood"
   ]
  },
  {
   "cell_type": "markdown",
   "metadata": {},
   "source": [
    "### 1. original table without a `VECTOR` column"
   ]
  },
  {
   "cell_type": "code",
   "execution_count": null,
   "metadata": {},
   "outputs": [],
   "source": [
    "# Drop the DB table SQ_SHOES if it exists\n",
    "\n",
    "sqlStatement1 = \"DROP TABLE SQ_SHOES\"\n",
    "try:\n",
    "    resultSet1 = ibm_db.exec_immediate(conn, sqlStatement1)\n",
    "except Exception:\n",
    "    pass"
   ]
  },
  {
   "cell_type": "code",
   "execution_count": null,
   "metadata": {},
   "outputs": [],
   "source": [
    "# Create the table\n",
    "sqlStatement2 = \"\"\"\n",
    "    CREATE TABLE SQ_SHOES (\n",
    "        SKU VARCHAR(8),\n",
    "        PRODUCT_NAME VARCHAR(23),\n",
    "        BRAND VARCHAR(9),\n",
    "        CLASS VARCHAR(5),\n",
    "        TYPE VARCHAR(7),\n",
    "        MATERIAL VARCHAR(9),\n",
    "        COLOR VARCHAR(5),\n",
    "        WEATHER_RESISTANCE VARCHAR(10),\n",
    "        ARCH_SUPPORT VARCHAR(4),\n",
    "        SIZE FLOAT,\n",
    "        PRICE FLOAT,\n",
    "        RATING FLOAT,\n",
    "        STORE_ID BIGINT,\n",
    "        CITY VARCHAR(7)\n",
    "    );\n",
    "    \"\"\"\n",
    "\n",
    "try:\n",
    "    resultSet2 = ibm_db.exec_immediate(conn, sqlStatement2)\n",
    "except Exception:\n",
    "    pass\n",
    "\n",
    "if resultSet2 is False:\n",
    "    print(\"\\nERROR: Unable to create table SQ_SHOES\\n\")\n",
    "    ibm_db.close(conn)\n",
    "    jupyter.notebook.stop('shoes-search.ipynb')\n",
    "else:\n",
    "    print(\"\\nSUCESSSL Created table SQ_SHOES\\n\")"
   ]
  },
  {
   "cell_type": "code",
   "execution_count": null,
   "metadata": {},
   "outputs": [],
   "source": [
    "# Load shoes-vectors spreadsheet into the database\n",
    "\n",
    "shoes = pd.read_csv('shoes.csv')\n",
    "\n",
    "sql_insert = \"INSERT INTO SQ_SHOES(SKU,PRODUCT_NAME,BRAND,CLASS,TYPE,MATERIAL,COLOR,WEATHER_RESISTANCE,ARCH_SUPPORT,SIZE,PRICE,RATING,STORE_ID,CITY) VALUES (?,?,?,?,?,?,?,?,?,?,?,?,?,?)\"\n",
    "\n",
    "preparedStmt = None\n",
    "try:\n",
    "    preparedStmt = ibm_db.prepare(conn, sql_insert)\n",
    "except Exception:\n",
    "    print(Exception)\n",
    "  \n",
    "if preparedStmt is False:\n",
    "    print(\"\\nERROR: Unable to prepare the SQL statement specified.\\n\")\n",
    "    ibm_db.close(conn)\n",
    "else:\n",
    "  tuple_of_tuples = tuple([tuple(x) for x in shoes.values])\n",
    "  print(tuple_of_tuples)\n",
    "\n",
    "try:\n",
    "  ibm_db.execute_many(preparedStmt, tuple(tuple_of_tuples))\n",
    "except Exception:\n",
    "  print(Exception)\n",
    "\n"
   ]
  },
  {
   "cell_type": "code",
   "execution_count": null,
   "metadata": {},
   "outputs": [],
   "source": [
    "# Print first few rows of SQ_SHOE table\n",
    "\n",
    "sqlStatement3 = \"SELECT * FROM SQ_SHOES FETCH FIRST 3 ROWS ONLY\"\n",
    "\n",
    "try:\n",
    "    resultSet3 = ibm_db.exec_immediate(conn, sqlStatement3)\n",
    "except Exception:\n",
    "    pass\n",
    "\n",
    "if resultSet3:        \n",
    "    df_shoes = db2_resultSet_to_dataFrame(resultSet3)\n",
    "    print(df_shoes)"
   ]
  },
  {
   "cell_type": "markdown",
   "metadata": {},
   "source": [
    "### 2. Adding a `VECTOR` column"
   ]
  },
  {
   "cell_type": "code",
   "execution_count": null,
   "metadata": {},
   "outputs": [],
   "source": [
    "sqlStatement4 = \"ALTER TABLE SQ_SHOES ADD COLUMN EMBEDDING VECTOR(1024, FLOAT32);\"\n",
    "\n",
    "try:\n",
    "    resultSet4 = ibm_db.exec_immediate(conn, sqlStatement4)\n",
    "except Exception:\n",
    "    pass\n",
    "\n",
    "if resultSet4 is False:\n",
    "    print(\"\\nERROR: Unable to alter table SQ_SHOES\\n\")\n",
    "    ibm_db.close(conn)\n",
    "    jupyter.notebook.stop('shoes-search.ipynb')\n",
    "else:\n",
    "    print(\"\\nSUCESSSL Altered table SQ_SHOES\\n\")"
   ]
  },
  {
   "cell_type": "markdown",
   "metadata": {},
   "source": [
    "### 1. selected shoe features for generating shoe vectors"
   ]
  },
  {
   "cell_type": "code",
   "execution_count": null,
   "metadata": {},
   "outputs": [],
   "source": [
    "embedding_cols = ['TYPE', 'MATERIAL', 'COLOR', 'WEATHER_RESISTANCE', 'ARCH_SUPPORT']\n",
    "sqlStatement5 = f\"SELECT * FROM SQ_SHOES WHERE SKU = '{my_choice_sku}'\"\n",
    "\n",
    "try:\n",
    "    resultSet5 = ibm_db.exec_immediate(conn, sqlStatement5)\n",
    "except Exception:\n",
    "    pass\n",
    "\n",
    "shoe_sample = None\n",
    "if resultSet5:        \n",
    "    shoe_sample = db2_resultSet_to_dataFrame(resultSet5)\n",
    "\n",
    "shoe_sample[embedding_cols]"
   ]
  },
  {
   "cell_type": "markdown",
   "metadata": {},
   "source": [
    "### 2. combined the text features of each shoe as follows"
   ]
  },
  {
   "cell_type": "code",
   "execution_count": null,
   "metadata": {},
   "outputs": [],
   "source": [
    "# Combine all columns into a single string for each row, including column names\n",
    "shoe_sample['combined'] = shoe_sample.apply(\n",
    "    lambda row: ' [SEP] '.join([f\"{col_name}: {row[col_name]}\" for col_name in embedding_cols]), \n",
    "    axis=1\n",
    ")\n",
    "\n",
    "shoe_sample['combined']"
   ]
  },
  {
   "cell_type": "markdown",
   "metadata": {},
   "source": [
    "### 3. generated embedding vectors for the shoe text obtained in the previous step. For generating embedding vectors, used `watsonx.ai`"
   ]
  },
  {
   "cell_type": "code",
   "execution_count": null,
   "metadata": {},
   "outputs": [],
   "source": [
    "\n",
    "row_combined = shoe_sample['combined'].tolist()\n",
    "print('input text: ', row_combined[0])\n",
    "\n",
    "shoe_vectors = embeddings.embed_documents(texts=row_combined)\n",
    "print('generated embedding vector: ', shoe_vectors[0])\n",
    "\n",
    "shoe_sample['embedding'] = shoe_vectors\n",
    "shoe_sample['embedding'] = shoe_sample['embedding'].apply(lambda x: '[' + ', '.join(map(str, x)) + ']')"
   ]
  },
  {
   "cell_type": "markdown",
   "metadata": {},
   "source": [
    "### 4. stored vectors in Db2 in a Vector column"
   ]
  },
  {
   "cell_type": "code",
   "execution_count": null,
   "metadata": {},
   "outputs": [],
   "source": [
    "sqlStatement6 = f\"SELECT EMBEDDING FROM SQ_SHOES WHERE SKU = '{my_choice_sku}'\"\n",
    "\n",
    "try:\n",
    "    resultSet6 = ibm_db.exec_immediate(conn, sqlStatement6)\n",
    "except Exception:\n",
    "    pass\n",
    "\n",
    "shoe = None\n",
    "if resultSet6:        \n",
    "    shoe = db2_resultSet_to_dataFrame(resultSet6)\n",
    "    print(shoe)"
   ]
  },
  {
   "cell_type": "code",
   "execution_count": null,
   "metadata": {},
   "outputs": [],
   "source": [
    "update_sql = f\"\"\" \n",
    "UPDATE SQ_SHOES SET EMBEDDING = VECTOR('{shoe_vectors[0]}', 1024, FLOAT32) WHERE SKU = '{my_choice_sku}'\n",
    "\"\"\"\n",
    "\n",
    "try:\n",
    "    resultSet7 = ibm_db.exec_immediate(conn, update_sql)\n",
    "except Exception:\n",
    "    pass\n"
   ]
  },
  {
   "cell_type": "code",
   "execution_count": null,
   "metadata": {},
   "outputs": [],
   "source": [
    "sqlStatement8 = f\"SELECT EMBEDDING FROM SQ_SHOES WHERE SKU = '{my_choice_sku}'\"\n",
    "\n",
    "try:\n",
    "    resultSet8 = ibm_db.exec_immediate(conn, sqlStatement8)\n",
    "except Exception:\n",
    "    pass\n",
    "\n",
    "shoe = None\n",
    "if resultSet8:        \n",
    "    shoe = db2_resultSet_to_dataFrame(resultSet8)\n",
    "    print(shoe)"
   ]
  },
  {
   "cell_type": "markdown",
   "metadata": {},
   "source": [
    "### 5. Loading the vectors of all the shoes - to save demo time\n",
    "\n",
    "To save time the table will be reloaded from the csv file containing the vactors rather than calling out to watsonx.ai to generate and store all the vectors."
   ]
  },
  {
   "cell_type": "code",
   "execution_count": null,
   "metadata": {},
   "outputs": [],
   "source": [
    "# Drop the DB table SQ_SHOES\n",
    "\n",
    "sqlStatement9 = \"DROP TABLE SQ_SHOES\"\n",
    "try:\n",
    "    resultSet9 = ibm_db.exec_immediate(conn, sqlStatement9)\n",
    "except Exception:\n",
    "    pass"
   ]
  },
  {
   "cell_type": "code",
   "execution_count": null,
   "metadata": {},
   "outputs": [],
   "source": [
    "# Create the table\n",
    "sqlStatement10 = \"\"\"\n",
    "    CREATE TABLE SQ_SHOES (\n",
    "    SKU VARCHAR(8),\n",
    "    PRODUCT_NAME VARCHAR(23),\n",
    "    BRAND VARCHAR(9),\n",
    "    CLASS VARCHAR(5),\n",
    "    TYPE VARCHAR(7),\n",
    "    MATERIAL VARCHAR(9),\n",
    "    COLOR VARCHAR(5),\n",
    "    WEATHER_RESISTANCE VARCHAR(10),\n",
    "    ARCH_SUPPORT VARCHAR(4),\n",
    "    SIZE FLOAT,\n",
    "    PRICE FLOAT,\n",
    "    RATING FLOAT,\n",
    "    STORE_ID BIGINT,\n",
    "    CITY VARCHAR(7),\n",
    "    EMBEDDING VECTOR(1024,FLOAT32)\n",
    "    );\n",
    "    \"\"\"\n",
    "try:\n",
    "    resultSet10 = ibm_db.exec_immediate(conn, sqlStatement10)\n",
    "except Exception:\n",
    "    pass\n",
    "\n",
    "if resultSet10 is False:\n",
    "    print(\"\\nERROR: Unable to create table SQ_SHOES\\n\")\n",
    "    ibm_db.close(conn)\n",
    "    jupyter.notebook.stop('shoes-search.ipynb')\n",
    "else:\n",
    "    print(\"\\nSUCESSSL Created table SQ_SHOES\\n\")"
   ]
  },
  {
   "cell_type": "code",
   "execution_count": null,
   "metadata": {},
   "outputs": [],
   "source": [
    "# Load shoes-vectors spreadsheet into the database\n",
    "\n",
    "shoes = pd.read_csv('shoes-vectors.csv')\n",
    "\n",
    "sql_insert = \"INSERT INTO SQ_SHOES(SKU,PRODUCT_NAME,BRAND,CLASS,TYPE,MATERIAL,COLOR,WEATHER_RESISTANCE,ARCH_SUPPORT,SIZE,PRICE,RATING,STORE_ID,CITY,EMBEDDING) VALUES (?,?,?,?,?,?,?,?,?,?,?,?,?,?,VECTOR(?, 1024, FLOAT32))\"\n",
    "\n",
    "preparedStmt = None\n",
    "try:\n",
    "    preparedStmt = ibm_db.prepare(conn, sql_insert)\n",
    "except Exception:\n",
    "    print(Exception)\n",
    "  \n",
    "if preparedStmt is False:\n",
    "    print(\"\\nERROR: Unable to prepare the SQL statement specified.\\n\")\n",
    "    ibm_db.close(conn)\n",
    "else:\n",
    "  tuple_of_tuples = tuple([tuple(x) for x in shoes.values])\n",
    "  print(tuple_of_tuples)\n",
    "\n",
    "try:\n",
    "  ibm_db.execute_many(preparedStmt, tuple(tuple_of_tuples))\n",
    "except Exception:\n",
    "  print(Exception)\n"
   ]
  },
  {
   "cell_type": "markdown",
   "metadata": {},
   "source": [
    "### 6. Finding matching shoes using the `VECTOR_DISTANCE` function"
   ]
  },
  {
   "cell_type": "code",
   "execution_count": null,
   "metadata": {},
   "outputs": [],
   "source": [
    "sqlStatement11 = f\"\"\"\n",
    "SELECT \n",
    "    SKU, \n",
    "    PRODUCT_NAME, \n",
    "    BRAND, \n",
    "    TYPE, \n",
    "    MATERIAL, \n",
    "    COLOR, \n",
    "    WEATHER_RESISTANCE, \n",
    "    ARCH_SUPPORT, \n",
    "    PRICE, \n",
    "    RATING,\n",
    "    VECTOR_DISTANCE(\n",
    "        (SELECT EMBEDDING FROM SQ_SHOES WHERE SKU = '{my_choice_sku}'), \n",
    "        EMBEDDING, \n",
    "        EUCLIDEAN\n",
    "    ) AS DISTANCE\n",
    "FROM \n",
    "    SQ_SHOES\n",
    "WHERE \n",
    "    SKU <> '{my_choice_sku}'\n",
    "    AND CITY = 'Toronto'\n",
    "    AND SIZE = 12\n",
    "    AND CLASS = 'Men'\n",
    "ORDER BY \n",
    "    DISTANCE ASC\n",
    "FETCH FIRST 5 ROWS ONLY\n",
    "\"\"\"\n",
    "\n",
    "try:\n",
    "    resultSet11 = ibm_db.exec_immediate(conn, sqlStatement11)\n",
    "except Exception:\n",
    "    pass\n",
    "\n",
    "top_shoes = None\n",
    "if resultSet11:        \n",
    "    top_shoes = db2_resultSet_to_dataFrame(resultSet11)\n",
    "    print(top_shoes.head())\n",
    "\n"
   ]
  },
  {
   "cell_type": "markdown",
   "metadata": {},
   "source": [
    "### 7. Visualizing vector search"
   ]
  },
  {
   "cell_type": "code",
   "execution_count": null,
   "metadata": {},
   "outputs": [],
   "source": [
    "\n",
    "sku_list = top_shoes['SKU'].tolist()\n",
    "sku_list.append(my_choice_sku)\n",
    "sku_sql_in = ', '.join(f\"'{sku}'\" for sku in sku_list)\n",
    "sqlStatement12=f\"\"\"\n",
    "    SELECT \n",
    "        SKU, \n",
    "        PRODUCT_NAME, \n",
    "        VECTOR_DISTANCE(\n",
    "            (SELECT EMBEDDING FROM SQ_SHOES WHERE SKU = '{my_choice_sku}'), \n",
    "            EMBEDDING, \n",
    "            EUCLIDEAN\n",
    "        ) AS DISTANCE,\n",
    "        VECTOR_SERIALIZE(EMBEDDING) AS EMBEDDING \n",
    "    FROM \n",
    "        SQ_SHOES\n",
    "    WHERE \n",
    "        SKU IN ({sku_sql_in})\n",
    "    \"\"\"\n",
    "\n",
    "try:\n",
    "    resultSet12 = ibm_db.exec_immediate(conn, sqlStatement12)\n",
    "except Exception:\n",
    "    pass\n",
    "\n",
    "top_matching_vectors = None\n",
    "if resultSet12:        \n",
    "    top_matching_vectors = db2_resultSet_to_dataFrame(resultSet12)\n",
    "\n",
    "plot_similarity_tsne(top_matching_vectors, my_choice_sku)"
   ]
  },
  {
   "cell_type": "code",
   "execution_count": null,
   "metadata": {},
   "outputs": [],
   "source": [
    "# Tidy up after demo - Drop the DB table SQ_SHOES\n",
    "\n",
    "sqlStatement13 = \"DROP TABLE SQ_SHOES\"\n",
    "try:\n",
    "    resultSet13 = ibm_db.exec_immediate(conn, sqlStatement13)\n",
    "except Exception:\n",
    "    pass"
   ]
  },
  {
   "cell_type": "code",
   "execution_count": null,
   "metadata": {},
   "outputs": [],
   "source": [
    "# Close the connection to DB2\n",
    "if not conn is None:\n",
    "    print(\"Disconnecting from the \\'\" + dbName + \"\\' database ... \", end=\"\")\n",
    "    try:\n",
    "        returnCode = ibm_db.close(conn)\n",
    "    except Exception:\n",
    "        pass"
   ]
  }
 ],
 "metadata": {
  "kernelspec": {
   "display_name": "Python 3",
   "language": "python",
   "name": "python3"
  },
  "language_info": {
   "codemirror_mode": {
    "name": "ipython",
    "version": 3
   },
   "file_extension": ".py",
   "mimetype": "text/x-python",
   "name": "python",
   "nbconvert_exporter": "python",
   "pygments_lexer": "ipython3",
   "version": "3.12.11"
  }
 },
 "nbformat": 4,
 "nbformat_minor": 2
}
