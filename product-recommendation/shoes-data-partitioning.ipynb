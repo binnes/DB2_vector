{
 "cells": [
  {
   "cell_type": "code",
   "execution_count": null,
   "id": "dcaa3841",
   "metadata": {},
   "outputs": [],
   "source": [
    "import pandas as pd\n",
    "import csv\n",
    "\n",
    "df = pd.read_csv('shoes-vectors.csv', quoting=csv.QUOTE_NONNUMERIC)\n"
   ]
  },
  {
   "cell_type": "code",
   "execution_count": null,
   "id": "e4e8b65b",
   "metadata": {},
   "outputs": [],
   "source": [
    "df.head()"
   ]
  },
  {
   "cell_type": "code",
   "execution_count": null,
   "id": "b30395a8",
   "metadata": {},
   "outputs": [],
   "source": [
    "def format_embedding(embedding_list):\n",
    "    return f\"VECTOR({embedding_list}, 1024, FLOAT32)\"\n",
    "\n",
    "df['EMBEDDING'] = df['EMBEDDING'].apply(format_embedding)"
   ]
  },
  {
   "cell_type": "code",
   "execution_count": null,
   "id": "2f810974",
   "metadata": {},
   "outputs": [],
   "source": [
    "df.head()"
   ]
  },
  {
   "cell_type": "code",
   "execution_count": null,
   "id": "7c138072",
   "metadata": {},
   "outputs": [],
   "source": [
    "df.shape"
   ]
  },
  {
   "cell_type": "code",
   "execution_count": null,
   "id": "0ee0dc8e",
   "metadata": {},
   "outputs": [],
   "source": [
    "df.columns"
   ]
  },
  {
   "cell_type": "code",
   "execution_count": null,
   "id": "cd514ccd",
   "metadata": {},
   "outputs": [],
   "source": [
    "import pandas as pd\n",
    "import csv\n",
    "\n",
    "# Assuming df_shoes is your original DataFrame\n",
    "cols_data = [\n",
    "    'SKU', 'PRODUCT_NAME', 'BRAND', 'CLASS', 'TYPE', 'MATERIAL', 'COLOR',\n",
    "    'WEATHER_RESISTANCE', 'ARCH_SUPPORT', 'SIZE', 'PRICE', 'RATING',\n",
    "    'STORE_ID', 'CITY'\n",
    "]\n",
    "\n",
    "cols_vectors = ['SKU', 'EMBEDDING']\n",
    "\n",
    "# Split into two DataFrames\n",
    "df_data = df[cols_data]\n",
    "df_vectors = df[cols_vectors]\n",
    "\n",
    "# Save to CSVs\n",
    "df_data.to_csv('shoes.csv', index=False, quoting=csv.QUOTE_NONNUMERIC)\n",
    "df_vectors.to_csv('vectors.csv', index=False, quoting=csv.QUOTE_NONNUMERIC)\n"
   ]
  }
 ],
 "metadata": {
  "kernelspec": {
   "display_name": "Python 3",
   "language": "python",
   "name": "python3"
  },
  "language_info": {
   "codemirror_mode": {
    "name": "ipython",
    "version": 3
   },
   "file_extension": ".py",
   "mimetype": "text/x-python",
   "name": "python",
   "nbconvert_exporter": "python",
   "pygments_lexer": "ipython3",
   "version": "3.12.11"
  }
 },
 "nbformat": 4,
 "nbformat_minor": 5
}
